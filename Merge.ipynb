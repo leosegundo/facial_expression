{
 "cells": [
  {
   "cell_type": "code",
   "execution_count": 1,
   "metadata": {},
   "outputs": [
    {
     "name": "stderr",
     "output_type": "stream",
     "text": [
      "/home/leodecio/anaconda3/lib/python3.6/site-packages/h5py/__init__.py:36: FutureWarning: Conversion of the second argument of issubdtype from `float` to `np.floating` is deprecated. In future, it will be treated as `np.float64 == np.dtype(float).type`.\n",
      "  from ._conv import register_converters as _register_converters\n",
      "Using TensorFlow backend.\n"
     ]
    }
   ],
   "source": [
    "import os, glob, errno\n",
    "import shutil\n",
    "import numpy as np\n",
    "import time\n",
    "\n",
    "from keras.preprocessing.image import ImageDataGenerator, array_to_img, img_to_array, load_img\n",
    "\n",
    "import cv2\n",
    "from matplotlib import pyplot as plt\n",
    "\n",
    "import random"
   ]
  },
  {
   "cell_type": "code",
   "execution_count": 2,
   "metadata": {},
   "outputs": [],
   "source": [
    "diretorio_completo  = '/home/leodecio/workspaceDL/Facial_expression/'\n",
    "path_images = 'KDEF/'\n",
    "\n",
    "#diretorio_images = '/home/leodecio/workspaceDL/bags-classification/Testes_e_Experimentos/Teste_Augmentation/images/'\n",
    "path_final = 'BASE/'"
   ]
  },
  {
   "cell_type": "code",
   "execution_count": 3,
   "metadata": {},
   "outputs": [],
   "source": [
    "dicionario = {}\n",
    "dicionario[\"afraid\"] = []\n",
    "dicionario[\"angry\"] = []\n",
    "dicionario[\"disgusted\"] = []\n",
    "dicionario[\"happy\"] = []\n",
    "dicionario[\"neutral\"] = []\n",
    "dicionario[\"sad\"] = []\n",
    "dicionario[\"surprised\"] = []"
   ]
  },
  {
   "cell_type": "code",
   "execution_count": 4,
   "metadata": {},
   "outputs": [],
   "source": [
    "i = 0"
   ]
  },
  {
   "cell_type": "code",
   "execution_count": 5,
   "metadata": {},
   "outputs": [],
   "source": [
    "def getImageUrl(diretorio_usuario, diretorio, pasta):\n",
    "    global i\n",
    "    if os.path.isdir(diretorio_usuario + diretorio):\n",
    "        os.chdir(diretorio_usuario + diretorio)\n",
    "        for arquivo in glob.glob(\"*\"):\n",
    "            if os.path.isdir(diretorio_usuario+diretorio+arquivo):\n",
    "                getImageUrl(diretorio_usuario, diretorio+arquivo+'/', arquivo)\n",
    "            else:\n",
    "                if((arquivo).endswith(\".jpg\") or (arquivo).endswith(\".png\") or (arquivo).endswith(\".JPG\")):\n",
    "                    aux = arquivo[4:]\n",
    "                    if(aux.startswith(\"AF\",0,2)):\n",
    "                        i = i+1\n",
    "                        dicionario[\"afraid\"].append(diretorio_usuario+diretorio+arquivo)\n",
    "                    elif(aux.startswith(\"AN\",0,2)):\n",
    "                        i = i+1\n",
    "                        dicionario[\"angry\"].append(diretorio_usuario+diretorio+arquivo)\n",
    "                    elif(aux.startswith(\"DI\",0,2)):\n",
    "                        i = i+1\n",
    "                        dicionario[\"disgusted\"].append(diretorio_usuario+diretorio+arquivo)\n",
    "                    elif(aux.startswith(\"HA\",0,2)):\n",
    "                        i = i+1\n",
    "                        dicionario[\"happy\"].append(diretorio_usuario+diretorio+arquivo)\n",
    "                    elif(aux.startswith(\"NE\",0,2)):\n",
    "                        i = i+1\n",
    "                        dicionario[\"neutral\"].append(diretorio_usuario+diretorio+arquivo)\n",
    "                    elif(aux.startswith(\"SA\",0,2)):\n",
    "                        i = i+1\n",
    "                        dicionario[\"sad\"].append(diretorio_usuario+diretorio+arquivo)\n",
    "                    elif(aux.startswith(\"SU\",0,2)):\n",
    "                        i = i+1\n",
    "                        dicionario[\"surprised\"].append((diretorio_usuario+diretorio+arquivo))\n",
    "                    else:\n",
    "                        print(arquivo + \" -- \"+(diretorio_usuario+diretorio+arquivo) + \"  \"+str(aux.startswith(\"AF\") ))\n",
    "                    \n",
    "                    #dicionario[pasta].append(diretorio_usuario+diretorio+arquivo)"
   ]
  },
  {
   "cell_type": "code",
   "execution_count": 6,
   "metadata": {},
   "outputs": [
    {
     "name": "stdout",
     "output_type": "stream",
     "text": [
      "AF31V.JPG -- /home/leodecio/workspaceDL/Facial_expression/KDEF/AF31/AF31V.JPG  False\n",
      "AM31H.JPG -- /home/leodecio/workspaceDL/Facial_expression/KDEF/AM31/AM31H.JPG  False\n"
     ]
    }
   ],
   "source": [
    "getImageUrl(diretorio_completo,path_images,\"\")"
   ]
  },
  {
   "cell_type": "code",
   "execution_count": 7,
   "metadata": {},
   "outputs": [
    {
     "name": "stdout",
     "output_type": "stream",
     "text": [
      "4898\n"
     ]
    }
   ],
   "source": [
    "print(i)"
   ]
  },
  {
   "cell_type": "code",
   "execution_count": 8,
   "metadata": {},
   "outputs": [],
   "source": [
    " for k in dicionario.keys():\n",
    "    try:\n",
    "        os.mkdir(diretorio_completo+path_final+k)\n",
    "    except OSError as e:\n",
    "        if e.errno == errno.EEXIST:\n",
    "            print(\"Diretório\", k, \"Já existente\")\n",
    "        else:\n",
    "            raise"
   ]
  },
  {
   "cell_type": "code",
   "execution_count": 9,
   "metadata": {},
   "outputs": [
    {
     "name": "stdout",
     "output_type": "stream",
     "text": [
      "afraid\n",
      "angry\n",
      "disgusted\n",
      "happy\n",
      "neutral\n",
      "sad\n",
      "surprised\n"
     ]
    }
   ],
   "source": [
    "a = []\n",
    "for k, values in dicionario.items():\n",
    "    print(k)\n",
    "    u = 0\n",
    "    for v in values:\n",
    "        u= u+1\n",
    "        shutil.copyfile(v, diretorio_completo+path_final+k+ \"/\"+str(u) +v[-11:])\n",
    "    a.append(u)"
   ]
  },
  {
   "cell_type": "code",
   "execution_count": 10,
   "metadata": {},
   "outputs": [
    {
     "data": {
      "text/plain": [
       "[700, 700, 700, 700, 700, 699, 699]"
      ]
     },
     "execution_count": 10,
     "metadata": {},
     "output_type": "execute_result"
    }
   ],
   "source": [
    "a"
   ]
  },
  {
   "cell_type": "code",
   "execution_count": null,
   "metadata": {},
   "outputs": [],
   "source": []
  }
 ],
 "metadata": {
  "kernelspec": {
   "display_name": "Python 3",
   "language": "python",
   "name": "python3"
  },
  "language_info": {
   "codemirror_mode": {
    "name": "ipython",
    "version": 3
   },
   "file_extension": ".py",
   "mimetype": "text/x-python",
   "name": "python",
   "nbconvert_exporter": "python",
   "pygments_lexer": "ipython3",
   "version": "3.6.5"
  }
 },
 "nbformat": 4,
 "nbformat_minor": 2
}
