{
 "cells": [
  {
   "cell_type": "code",
   "execution_count": 1,
   "metadata": {},
   "outputs": [
    {
     "name": "stderr",
     "output_type": "stream",
     "text": [
      "/home/leodecio/anaconda3/lib/python3.6/site-packages/h5py/__init__.py:36: FutureWarning: Conversion of the second argument of issubdtype from `float` to `np.floating` is deprecated. In future, it will be treated as `np.float64 == np.dtype(float).type`.\n",
      "  from ._conv import register_converters as _register_converters\n",
      "Using TensorFlow backend.\n"
     ]
    }
   ],
   "source": [
    "import cv2\n",
    "import shutil\n",
    "import random\n",
    "import numpy as np\n",
    "import os, glob, errno\n",
    "\n",
    "from keras.preprocessing.image import ImageDataGenerator, array_to_img, img_to_array, load_img\n",
    "from matplotlib import pyplot as plt"
   ]
  },
  {
   "cell_type": "code",
   "execution_count": 2,
   "metadata": {},
   "outputs": [],
   "source": [
    "source_path = \"/home/leodecio/workspaceDL/Facial_expression/data/faces/sample/\"\n",
    "\n",
    "path_images_train = \"train/\"\n",
    "\n",
    "path_output_train = \"/home/leodecio/workspaceDL/Facial_expression/aug/train/\""
   ]
  },
  {
   "cell_type": "code",
   "execution_count": 3,
   "metadata": {},
   "outputs": [],
   "source": [
    "dicionario = {}"
   ]
  },
  {
   "cell_type": "code",
   "execution_count": 15,
   "metadata": {},
   "outputs": [],
   "source": [
    "def getImageUrl(diretorio_usuario, diretorio, pasta):\n",
    "    if os.path.isdir(diretorio_usuario + diretorio):\n",
    "        os.chdir(diretorio_usuario + diretorio)\n",
    "        for arquivo in glob.glob(\"*\"):\n",
    "            if os.path.isdir(diretorio_usuario+diretorio+arquivo):\n",
    "                dicionario[arquivo] = []\n",
    "                getImageUrl(diretorio_usuario, diretorio+arquivo+'/', arquivo)\n",
    "            else:\n",
    "                if((arquivo).endswith(\".jpg\") or (arquivo).endswith(\".JPG\") or (arquivo).endswith(\".jpeg\")):\n",
    "                    dicionario[pasta].append(diretorio_usuario+diretorio+arquivo)"
   ]
  },
  {
   "cell_type": "code",
   "execution_count": 16,
   "metadata": {},
   "outputs": [],
   "source": [
    "getImageUrl(source_path, path_images_train, \"\")"
   ]
  },
  {
   "cell_type": "code",
   "execution_count": 17,
   "metadata": {},
   "outputs": [],
   "source": [
    "datagen = ImageDataGenerator(rotation_range=20,\n",
    "                             shear_range=0.1,\n",
    "                             zoom_range=0.2,\n",
    "                             horizontal_flip=True,\n",
    "                             fill_mode='nearest')"
   ]
  },
  {
   "cell_type": "code",
   "execution_count": 18,
   "metadata": {},
   "outputs": [],
   "source": [
    "for folder in dicionario.keys():\n",
    "    try:\n",
    "        os.mkdir(path_output_train+folder)\n",
    "    except OSError as e:\n",
    "        if e.errno == errno.EEXIST:\n",
    "            print(\"Diretório\", folder, \"Já existente\")\n",
    "        else:\n",
    "            raise"
   ]
  },
  {
   "cell_type": "code",
   "execution_count": 19,
   "metadata": {},
   "outputs": [],
   "source": [
    " for folder, images in dicionario.items():\n",
    "    for image in images:\n",
    "        img = load_img(image)\n",
    "        img_array = img_to_array(img)  \n",
    "        img_array = img_array.reshape((1,) + img_array.shape)\n",
    "        i = 0\n",
    "        for batch in datagen.flow(img_array, \n",
    "                                  batch_size=1,\n",
    "                                  save_to_dir=path_output_train + folder + \"/\", \n",
    "                                  save_prefix=folder, \n",
    "                                  save_format='jpg'):\n",
    "            i += 1\n",
    "            if i > 2:\n",
    "                break"
   ]
  },
  {
   "cell_type": "code",
   "execution_count": null,
   "metadata": {},
   "outputs": [],
   "source": []
  }
 ],
 "metadata": {
  "kernelspec": {
   "display_name": "Python 3",
   "language": "python",
   "name": "python3"
  },
  "language_info": {
   "codemirror_mode": {
    "name": "ipython",
    "version": 3
   },
   "file_extension": ".py",
   "mimetype": "text/x-python",
   "name": "python",
   "nbconvert_exporter": "python",
   "pygments_lexer": "ipython3",
   "version": "3.6.5"
  }
 },
 "nbformat": 4,
 "nbformat_minor": 2
}
