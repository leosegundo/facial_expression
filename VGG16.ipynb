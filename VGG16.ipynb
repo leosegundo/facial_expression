{
 "cells": [
  {
   "cell_type": "code",
   "execution_count": 1,
   "metadata": {},
   "outputs": [
    {
     "name": "stderr",
     "output_type": "stream",
     "text": [
      "/home/leodecio/anaconda3/lib/python3.6/site-packages/h5py/__init__.py:36: FutureWarning: Conversion of the second argument of issubdtype from `float` to `np.floating` is deprecated. In future, it will be treated as `np.float64 == np.dtype(float).type`.\n",
      "  from ._conv import register_converters as _register_converters\n",
      "Using TensorFlow backend.\n"
     ]
    }
   ],
   "source": [
    "import math\n",
    "import numpy as np\n",
    "import matplotlib.pyplot as plt\n",
    "\n",
    "from keras import optimizers, regularizers, applications\n",
    "from keras.models import Sequential, Model\n",
    "from keras.layers import Dense, Flatten, Dropout, GlobalAveragePooling2D\n",
    "from keras.preprocessing.image import ImageDataGenerator\n",
    "\n",
    "plt.style.use('ggplot')\n",
    "plt.switch_backend('agg')"
   ]
  },
  {
   "cell_type": "code",
   "execution_count": 10,
   "metadata": {},
   "outputs": [],
   "source": [
    "import tensorflow as tf "
   ]
  },
  {
   "cell_type": "code",
   "execution_count": 3,
   "metadata": {},
   "outputs": [],
   "source": [
    "EPOCHS = 60\n",
    "N_VAL = 1477\n",
    "N_TRAIN = 3423\n",
    "BATCH_SIZE = 128\n",
    "RESOLUTION = 224\n",
    "EXP_NAME = 'VGG16_e001'\n",
    "PATH_TRAIN = './data/faces/sample/train'\n",
    "PATH_VAL = './data/faces/sample/valid'"
   ]
  },
  {
   "cell_type": "code",
   "execution_count": 12,
   "metadata": {},
   "outputs": [],
   "source": [
    "def overfitting_plot(history, name):\n",
    "    acc = history.history['acc']\n",
    "    val_acc = history.history['val_acc']\n",
    "    loss = history.history['loss']\n",
    "    val_loss = history.history['val_loss']\n",
    "    \n",
    "    epochs = range(1, len(acc) + 1)\n",
    "    \n",
    "    plt.plot(epochs, acc, 'bo', label='Training acc')\n",
    "    plt.plot(epochs, val_acc, 'b', label='Validation acc')\n",
    "    plt.title('Training and validation accuracy')\n",
    "    plt.legend(loc='best')\n",
    "    plt.savefig('./data/faces/plots/acc/'+'acc_'+name+'.png')\n",
    "    \n",
    "    plt.figure()\n",
    "    plt.plot(epochs, loss, 'bo', label='Training loss')\n",
    "    plt.plot(epochs, val_loss, 'b', label='Validation loss')\n",
    "    plt.title('Training and validation loss')\n",
    "    plt.legend(loc='best')\n",
    "    plt.savefig('./data/faces/plots/loss/'+'loss_'+name+'.png')"
   ]
  },
  {
   "cell_type": "code",
   "execution_count": 13,
   "metadata": {},
   "outputs": [],
   "source": [
    "def train(model, path_train, path_val, name=' '):\n",
    "    \n",
    "    train_datagen = ImageDataGenerator(rescale=1./255)\n",
    "    val_datagen = ImageDataGenerator(rescale=1./255)\n",
    "    \n",
    "    train_generator = train_datagen.flow_from_directory(\n",
    "        path_train,\n",
    "        target_size=(RESOLUTION, RESOLUTION),\n",
    "        batch_size=BATCH_SIZE,\n",
    "        class_mode='categorical')\n",
    "    \n",
    "    val_generator = val_datagen.flow_from_directory(\n",
    "        path_val,\n",
    "        target_size=(RESOLUTION, RESOLUTION),\n",
    "        batch_size=BATCH_SIZE,\n",
    "        class_mode='categorical')\n",
    "    \n",
    "    history = model.fit_generator(\n",
    "        train_generator,\n",
    "        steps_per_epoch=(N_TRAIN // BATCH_SIZE),\n",
    "        epochs=EPOCHS,\n",
    "        validation_data=val_generator ,\n",
    "        validation_steps=(N_VAL // BATCH_SIZE)\n",
    "    )\n",
    "    \n",
    "    model.save('./data/faces/sample/models/'+name+'.h5')\n",
    "    \n",
    "    overfitting_plot(history, name)"
   ]
  },
  {
   "cell_type": "code",
   "execution_count": 14,
   "metadata": {},
   "outputs": [],
   "source": [
    "def model_base(freeze_conv=True, name=' '):\n",
    "    if(name == 'VGG16'):\n",
    "        model = applications.VGG16(include_top=False,\n",
    "                                   input_shape=(RESOLUTION,RESOLUTION,3), \n",
    "                                   weights='imagenet')\n",
    "    elif(name == 'InceptionV3'):\n",
    "        model = applications.InceptionV3(include_top=False,\n",
    "                                         input_shape=(RESOLUTION,RESOLUTION,3), \n",
    "                                         weights='imagenet')\n",
    "    if(freeze_conv):\n",
    "        model.trainable = False\n",
    "    else:\n",
    "        model.trainable = True\n",
    "    return model"
   ]
  },
  {
   "cell_type": "code",
   "execution_count": 15,
   "metadata": {},
   "outputs": [],
   "source": [
    "def vgg16_pretrained_model(with_dropout=False, with_regularizer=False, regularizer_weight=0.001):\n",
    "    \n",
    "    model_vgg16 = model_base(name='VGG16')\n",
    "    model = Sequential()\n",
    "    model.add(model_vgg16)\n",
    "    model.add(Flatten())\n",
    "    \n",
    "    if with_dropout:\n",
    "        model.add(Dropout(0.5))\n",
    "    if with_regularizer:\n",
    "        model.add(Dense(256, activation='relu',\n",
    "                        kernel_regularizer=regularizers.l1_l2(l1=regularizer_weight, l2=regularizer_weight)))\n",
    "    else:\n",
    "        model.add(Dense(256, activation='relu'))\n",
    "    \n",
    "    model.add(Dense(7, activation=tf.nn.softmax))\n",
    "    \n",
    "    model.compile(loss='categorical_crossentropy', \n",
    "                  optimizer=optimizers.RMSprop(lr=1e-5), \n",
    "                  metrics=['acc'])\n",
    "    return model"
   ]
  },
  {
   "cell_type": "code",
   "execution_count": 6,
   "metadata": {},
   "outputs": [],
   "source": [
    "model = applications.VGG16(include_top=False,\n",
    "                                   input_shape=(RESOLUTION,RESOLUTION,3), \n",
    "                                   weights=None)"
   ]
  },
  {
   "cell_type": "code",
   "execution_count": 8,
   "metadata": {},
   "outputs": [],
   "source": [
    "a = Sequential()"
   ]
  },
  {
   "cell_type": "code",
   "execution_count": 9,
   "metadata": {},
   "outputs": [
    {
     "data": {
      "text/plain": [
       "keras.engine.sequential.Sequential"
      ]
     },
     "execution_count": 9,
     "metadata": {},
     "output_type": "execute_result"
    }
   ],
   "source": [
    "type(a)"
   ]
  },
  {
   "cell_type": "code",
   "execution_count": 7,
   "metadata": {},
   "outputs": [
    {
     "data": {
      "text/plain": [
       "keras.engine.training.Model"
      ]
     },
     "execution_count": 7,
     "metadata": {},
     "output_type": "execute_result"
    }
   ],
   "source": [
    "type(model)"
   ]
  },
  {
   "cell_type": "code",
   "execution_count": 16,
   "metadata": {},
   "outputs": [],
   "source": [
    "model = vgg16_pretrained_model()"
   ]
  },
  {
   "cell_type": "code",
   "execution_count": null,
   "metadata": {},
   "outputs": [
    {
     "name": "stdout",
     "output_type": "stream",
     "text": [
      "Found 3423 images belonging to 7 classes.\n",
      "Found 1477 images belonging to 7 classes.\n",
      "Epoch 1/60\n"
     ]
    }
   ],
   "source": [
    "train(model, PATH_TRAIN, PATH_VAL, name=EXP_NAME)"
   ]
  },
  {
   "cell_type": "code",
   "execution_count": null,
   "metadata": {},
   "outputs": [],
   "source": []
  }
 ],
 "metadata": {
  "kernelspec": {
   "display_name": "Python 3",
   "language": "python",
   "name": "python3"
  },
  "language_info": {
   "codemirror_mode": {
    "name": "ipython",
    "version": 3
   },
   "file_extension": ".py",
   "mimetype": "text/x-python",
   "name": "python",
   "nbconvert_exporter": "python",
   "pygments_lexer": "ipython3",
   "version": "3.6.5"
  }
 },
 "nbformat": 4,
 "nbformat_minor": 2
}
