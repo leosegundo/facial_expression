{
 "cells": [
  {
   "cell_type": "code",
   "execution_count": 1,
   "metadata": {},
   "outputs": [
    {
     "name": "stderr",
     "output_type": "stream",
     "text": [
      "/home/leodecio/anaconda3/lib/python3.6/site-packages/h5py/__init__.py:36: FutureWarning: Conversion of the second argument of issubdtype from `float` to `np.floating` is deprecated. In future, it will be treated as `np.float64 == np.dtype(float).type`.\n",
      "  from ._conv import register_converters as _register_converters\n",
      "Using TensorFlow backend.\n"
     ]
    }
   ],
   "source": [
    "import cv2\n",
    "import shutil\n",
    "import random\n",
    "import numpy as np\n",
    "import os, glob, errno\n",
    "\n",
    "from keras.preprocessing.image import ImageDataGenerator, array_to_img, img_to_array, load_img\n",
    "from matplotlib import pyplot as plt"
   ]
  },
  {
   "cell_type": "code",
   "execution_count": 2,
   "metadata": {},
   "outputs": [],
   "source": [
    "source_path = \"/home/leodecio/workspaceDL/Facial_expression/\"\n",
    "path_images = \"BASE/\"\n",
    "\n",
    "#output_path = \"/home/leodecio/workspaceDL/Facial_expression/\"\n",
    "output_train = \"data/train/\"\n",
    "output_val = \"data/valid/\""
   ]
  },
  {
   "cell_type": "code",
   "execution_count": 3,
   "metadata": {},
   "outputs": [],
   "source": [
    "dicionario = {}"
   ]
  },
  {
   "cell_type": "code",
   "execution_count": 4,
   "metadata": {},
   "outputs": [],
   "source": [
    " def getImageUrl(diretorio_usuario, diretorio, pasta):\n",
    "    if os.path.isdir(diretorio_usuario + diretorio):\n",
    "        os.chdir(diretorio_usuario + diretorio)\n",
    "        for arquivo in glob.glob(\"*\"):\n",
    "            if os.path.isdir(diretorio_usuario+diretorio+arquivo):\n",
    "                dicionario[arquivo] = []\n",
    "                getImageUrl(diretorio_usuario, diretorio+arquivo+'/', arquivo)\n",
    "            else:\n",
    "                if((arquivo).endswith(\".jpg\") or (arquivo).endswith(\".png\") or (arquivo).endswith(\".JPG\")):\n",
    "                    dicionario[pasta].append(diretorio_usuario+diretorio+arquivo)"
   ]
  },
  {
   "cell_type": "code",
   "execution_count": 5,
   "metadata": {},
   "outputs": [],
   "source": [
    "getImageUrl(source_path, path_images, \"\")"
   ]
  },
  {
   "cell_type": "code",
   "execution_count": 6,
   "metadata": {},
   "outputs": [],
   "source": [
    "for folder in dicionario.keys():\n",
    "    try:\n",
    "        os.mkdir(source_path+output_train+folder)\n",
    "        os.mkdir(source_path+output_val+folder)\n",
    "    except OSError as e:\n",
    "        if e.errno == errno.EEXIST:\n",
    "            print(\"Diretório\", k, \"Já existente\")\n",
    "        else:\n",
    "            raise"
   ]
  },
  {
   "cell_type": "code",
   "execution_count": 7,
   "metadata": {},
   "outputs": [],
   "source": [
    " for folder, images in dicionario.items():\n",
    "    n_images = len(images)\n",
    "    n_train = int(np.floor(n_images * 0.7)) # 70% train\n",
    "    n_val = int(n_images - n_train) # 30% test\n",
    "    \n",
    "    temp = np.arange(n_images) \n",
    "    np.random.shuffle(temp)\n",
    "    idx_train = temp[:n_train]\n",
    "    idx_val = temp[n_train:]\n",
    "       \n",
    "    for a in idx_train:\n",
    "        shutil.copy(images[a], source_path+output_train+folder+'/')\n",
    "    for a in idx_val:\n",
    "        shutil.copy(images[a], source_path+output_val+folder+'/')"
   ]
  },
  {
   "cell_type": "code",
   "execution_count": null,
   "metadata": {},
   "outputs": [],
   "source": []
  }
 ],
 "metadata": {
  "kernelspec": {
   "display_name": "Python 3",
   "language": "python",
   "name": "python3"
  },
  "language_info": {
   "codemirror_mode": {
    "name": "ipython",
    "version": 3
   },
   "file_extension": ".py",
   "mimetype": "text/x-python",
   "name": "python",
   "nbconvert_exporter": "python",
   "pygments_lexer": "ipython3",
   "version": "3.6.5"
  }
 },
 "nbformat": 4,
 "nbformat_minor": 2
}
